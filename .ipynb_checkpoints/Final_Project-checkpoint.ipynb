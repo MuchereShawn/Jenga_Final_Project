{
 "cells": [
  {
   "cell_type": "markdown",
   "id": "3e1cbc0a",
   "metadata": {},
   "source": [
    "# Crop Production Analysis\n",
    "I have used the following dataset to visualize crop production in kenya and the rest of Eastern \n",
    "This datasets were found at Africa.http://www.fao.org/faostat/en/#data/QC"
   ]
  },
  {
   "cell_type": "code",
   "execution_count": 139,
   "id": "21f3f34e",
   "metadata": {},
   "outputs": [],
   "source": [
    "import pandas as pd\n",
    "import numpy as np\n",
    "import matplotlib.pyplot as plt\n",
    "data = pd.read_csv(\"FAOSTAT_data_6-28-2021 Production.csv\")\n",
    "Data = pd.read_csv(\"FAOSTAT_data_6-28-2021 (1) Harvest.csv\")"
   ]
  },
  {
   "cell_type": "code",
   "execution_count": 40,
   "id": "f8e9cc71",
   "metadata": {},
   "outputs": [
    {
     "name": "stdout",
     "output_type": "stream",
     "text": [
      "<class 'pandas.core.frame.DataFrame'>\n",
      "RangeIndex: 2157 entries, 0 to 2156\n",
      "Data columns (total 7 columns):\n",
      " #   Column   Non-Null Count  Dtype  \n",
      "---  ------   --------------  -----  \n",
      " 0   Domain   2157 non-null   object \n",
      " 1   Area     2157 non-null   object \n",
      " 2   Element  2157 non-null   object \n",
      " 3   Crop     2157 non-null   object \n",
      " 4   Year     2157 non-null   int64  \n",
      " 5   Unit     2157 non-null   object \n",
      " 6   Value    2017 non-null   float64\n",
      "dtypes: float64(1), int64(1), object(5)\n",
      "memory usage: 118.1+ KB\n"
     ]
    }
   ],
   "source": [
    "data.info()"
   ]
  },
  {
   "cell_type": "code",
   "execution_count": null,
   "id": "ea0e7878",
   "metadata": {},
   "outputs": [],
   "source": [
    "data.Crop.value_counts()"
   ]
  },
  {
   "cell_type": "markdown",
   "id": "acefd409",
   "metadata": {},
   "source": [
    "# Question 1: Which Country hd the most production rate in Eastern Africa"
   ]
  },
  {
   "cell_type": "code",
   "execution_count": 9,
   "id": "31485c82",
   "metadata": {},
   "outputs": [
    {
     "data": {
      "image/png": "[encoded data removed]",
      "text/plain": [
       "<Figure size 432x288 with 1 Axes>"
      ]
     },
     "metadata": {
      "needs_background": "light"
     },
     "output_type": "display_data"
    }
   ],
   "source": [
    "plt.barh(data.Area, data.Value / 10*6)\n",
    "\n",
    "plt.title(\"Production Rates in Eastern Africa\")\n",
    "plt.xlabel(\"Value (000')\")\n",
    "plt.ylabel(\"Country\")\n",
    "plt.show()\n",
    "## Blue is kenya While orange is Eastern Africa"
   ]
  },
  {
   "cell_type": "markdown",
   "id": "04485055",
   "metadata": {},
   "source": [
    "# Question 2: What Is The Total Number of Tonnes of Crops Procuced In the 4years"
   ]
  },
  {
   "cell_type": "code",
   "execution_count": 10,
   "id": "47139329",
   "metadata": {},
   "outputs": [
    {
     "data": {
      "text/plain": [
       "768743974.0"
      ]
     },
     "execution_count": 10,
     "metadata": {},
     "output_type": "execute_result"
    }
   ],
   "source": [
    "Production = (data[\"Element\"] == \"Production\")\n",
    "data.loc[Production][\"Value\"].sum()"
   ]
  },
  {
   "cell_type": "markdown",
   "id": "52b248b1",
   "metadata": {},
   "source": [
    "# Question 3: Which Is The Year With the Most Production, Area Harvested and Yields Rate In Both Kenya and Eastern Africa"
   ]
  },
  {
   "cell_type": "code",
   "execution_count": 12,
   "id": "969d6fa5",
   "metadata": {},
   "outputs": [
    {
     "data": {
      "image/png": "[encoded data removed]",
      "text/plain": [
       "<Figure size 432x288 with 1 Axes>"
      ]
     },
     "metadata": {
      "needs_background": "light"
     },
     "output_type": "display_data"
    }
   ],
   "source": [
    "### PRODUCTION\n",
    "plt.bar(data.Year, data.Value)\n",
    "plt.title(\"Most Productive Year\")\n",
    "plt.xlabel(\"Year\")\n",
    "plt.ylabel(\"Value in (000')\")\n",
    "plt.show()\n"
   ]
  },
  {
   "cell_type": "code",
   "execution_count": null,
   "id": "07645b9b",
   "metadata": {},
   "outputs": [],
   "source": []
  },
  {
   "cell_type": "code",
   "execution_count": null,
   "id": "fcd34f5c",
   "metadata": {},
   "outputs": [],
   "source": []
  },
  {
   "cell_type": "markdown",
   "id": "7660e0b5",
   "metadata": {},
   "source": [
    "# Question 4: Production Data Kenya"
   ]
  },
  {
   "cell_type": "code",
   "execution_count": 87,
   "id": "cc9584a0",
   "metadata": {},
   "outputs": [],
   "source": [
    "Kenya = (data[\"Area\"] == \"Kenya\") & (data[\"Element\"] == \"Production\")\n"
   ]
  },
  {
   "cell_type": "code",
   "execution_count": 89,
   "id": "ea656fce",
   "metadata": {},
   "outputs": [
    {
     "data": {
      "text/html": [
       "<div>\n",
       "<style scoped>\n",
       "    .dataframe tbody tr th:only-of-type {\n",
       "        vertical-align: middle;\n",
       "    }\n",
       "\n",
       "    .dataframe tbody tr th {\n",
       "        vertical-align: top;\n",
       "    }\n",
       "\n",
       "    .dataframe thead th {\n",
       "        text-align: right;\n",
       "    }\n",
       "</style>\n",
       "<table border=\"1\" class=\"dataframe\">\n",
       "  <thead>\n",
       "    <tr style=\"text-align: right;\">\n",
       "      <th></th>\n",
       "      <th>Domain</th>\n",
       "      <th>Area</th>\n",
       "      <th>Element</th>\n",
       "      <th>Crop</th>\n",
       "      <th>Year</th>\n",
       "      <th>Unit</th>\n",
       "      <th>Value</th>\n",
       "    </tr>\n",
       "  </thead>\n",
       "  <tbody>\n",
       "    <tr>\n",
       "      <th>419</th>\n",
       "      <td>Crops</td>\n",
       "      <td>Kenya</td>\n",
       "      <td>Production</td>\n",
       "      <td>Apples</td>\n",
       "      <td>2016</td>\n",
       "      <td>tonnes</td>\n",
       "      <td>623.0</td>\n",
       "    </tr>\n",
       "    <tr>\n",
       "      <th>420</th>\n",
       "      <td>Crops</td>\n",
       "      <td>Kenya</td>\n",
       "      <td>Production</td>\n",
       "      <td>Apples</td>\n",
       "      <td>2017</td>\n",
       "      <td>tonnes</td>\n",
       "      <td>300.0</td>\n",
       "    </tr>\n",
       "    <tr>\n",
       "      <th>421</th>\n",
       "      <td>Crops</td>\n",
       "      <td>Kenya</td>\n",
       "      <td>Production</td>\n",
       "      <td>Apples</td>\n",
       "      <td>2018</td>\n",
       "      <td>tonnes</td>\n",
       "      <td>426.0</td>\n",
       "    </tr>\n",
       "    <tr>\n",
       "      <th>422</th>\n",
       "      <td>Crops</td>\n",
       "      <td>Kenya</td>\n",
       "      <td>Production</td>\n",
       "      <td>Apples</td>\n",
       "      <td>2019</td>\n",
       "      <td>tonnes</td>\n",
       "      <td>702.0</td>\n",
       "    </tr>\n",
       "    <tr>\n",
       "      <th>423</th>\n",
       "      <td>Crops</td>\n",
       "      <td>Kenya</td>\n",
       "      <td>Production</td>\n",
       "      <td>Avocados</td>\n",
       "      <td>2016</td>\n",
       "      <td>tonnes</td>\n",
       "      <td>176045.0</td>\n",
       "    </tr>\n",
       "    <tr>\n",
       "      <th>...</th>\n",
       "      <td>...</td>\n",
       "      <td>...</td>\n",
       "      <td>...</td>\n",
       "      <td>...</td>\n",
       "      <td>...</td>\n",
       "      <td>...</td>\n",
       "      <td>...</td>\n",
       "    </tr>\n",
       "    <tr>\n",
       "      <th>610</th>\n",
       "      <td>Crops</td>\n",
       "      <td>Kenya</td>\n",
       "      <td>Production</td>\n",
       "      <td>Wheat</td>\n",
       "      <td>2019</td>\n",
       "      <td>tonnes</td>\n",
       "      <td>366200.0</td>\n",
       "    </tr>\n",
       "    <tr>\n",
       "      <th>611</th>\n",
       "      <td>Crops</td>\n",
       "      <td>Kenya</td>\n",
       "      <td>Production</td>\n",
       "      <td>Yams</td>\n",
       "      <td>2016</td>\n",
       "      <td>tonnes</td>\n",
       "      <td>12388.0</td>\n",
       "    </tr>\n",
       "    <tr>\n",
       "      <th>612</th>\n",
       "      <td>Crops</td>\n",
       "      <td>Kenya</td>\n",
       "      <td>Production</td>\n",
       "      <td>Yams</td>\n",
       "      <td>2017</td>\n",
       "      <td>tonnes</td>\n",
       "      <td>10417.0</td>\n",
       "    </tr>\n",
       "    <tr>\n",
       "      <th>613</th>\n",
       "      <td>Crops</td>\n",
       "      <td>Kenya</td>\n",
       "      <td>Production</td>\n",
       "      <td>Yams</td>\n",
       "      <td>2018</td>\n",
       "      <td>tonnes</td>\n",
       "      <td>9610.0</td>\n",
       "    </tr>\n",
       "    <tr>\n",
       "      <th>614</th>\n",
       "      <td>Crops</td>\n",
       "      <td>Kenya</td>\n",
       "      <td>Production</td>\n",
       "      <td>Yams</td>\n",
       "      <td>2019</td>\n",
       "      <td>tonnes</td>\n",
       "      <td>9860.0</td>\n",
       "    </tr>\n",
       "  </tbody>\n",
       "</table>\n",
       "<p>196 rows × 7 columns</p>\n",
       "</div>"
      ],
      "text/plain": [
       "    Domain   Area     Element      Crop  Year    Unit     Value\n",
       "419  Crops  Kenya  Production    Apples  2016  tonnes     623.0\n",
       "420  Crops  Kenya  Production    Apples  2017  tonnes     300.0\n",
       "421  Crops  Kenya  Production    Apples  2018  tonnes     426.0\n",
       "422  Crops  Kenya  Production    Apples  2019  tonnes     702.0\n",
       "423  Crops  Kenya  Production  Avocados  2016  tonnes  176045.0\n",
       "..     ...    ...         ...       ...   ...     ...       ...\n",
       "610  Crops  Kenya  Production     Wheat  2019  tonnes  366200.0\n",
       "611  Crops  Kenya  Production      Yams  2016  tonnes   12388.0\n",
       "612  Crops  Kenya  Production      Yams  2017  tonnes   10417.0\n",
       "613  Crops  Kenya  Production      Yams  2018  tonnes    9610.0\n",
       "614  Crops  Kenya  Production      Yams  2019  tonnes    9860.0\n",
       "\n",
       "[196 rows x 7 columns]"
      ]
     },
     "execution_count": 89,
     "metadata": {},
     "output_type": "execute_result"
    }
   ],
   "source": [
    "data.loc[Kenya]"
   ]
  },
  {
   "cell_type": "code",
   "execution_count": 19,
   "id": "13e29d92",
   "metadata": {},
   "outputs": [
    {
     "data": {
      "text/plain": [
       "Value    80779264.0\n",
       "dtype: float64"
      ]
     },
     "execution_count": 19,
     "metadata": {},
     "output_type": "execute_result"
    }
   ],
   "source": [
    "data.loc[Kenya,[\"Value\"]].sum()\n",
    "### Figure is in Tonnes"
   ]
  },
  {
   "cell_type": "markdown",
   "id": "e430a37e",
   "metadata": {},
   "source": [
    "## Most Produced Crop in Kenya"
   ]
  },
  {
   "cell_type": "code",
   "execution_count": 34,
   "id": "9da145b9",
   "metadata": {},
   "outputs": [],
   "source": [
    "Crops_in_Ke = (data[\"Area\"] == \"Kenya\")"
   ]
  },
  {
   "cell_type": "code",
   "execution_count": 77,
   "id": "bd980d7b",
   "metadata": {},
   "outputs": [
    {
     "data": {
      "text/plain": [
       "Crop                              \n",
       "Apples                                4\n",
       "Millet                                4\n",
       "Onions, dry                           4\n",
       "Oranges                               4\n",
       "Peas, green                           4\n",
       "Pineapples                            4\n",
       "Potatoes                              4\n",
       "Pyrethrum, dried                      4\n",
       "Rice, paddy                           4\n",
       "Seed cotton                           4\n",
       "Sisal                                 4\n",
       "Sorghum                               4\n",
       "Soybeans                              4\n",
       "Spinach                               4\n",
       "Sugar cane                            4\n",
       "Sunflower seed                        4\n",
       "Sweet potatoes                        4\n",
       "Tea                                   4\n",
       "Tomatoes                              4\n",
       "Vegetables, fresh nes                 4\n",
       "Vegetables, leguminous nes            4\n",
       "Watermelons                           4\n",
       "Wheat                                 4\n",
       "Oats                                  4\n",
       "Mangoes, mangosteens, guavas          4\n",
       "Avocados                              4\n",
       "Maize                                 4\n",
       "Bananas                               4\n",
       "Barley                                4\n",
       "Beans, dry                            4\n",
       "Beans, green                          4\n",
       "Cabbages and other brassicas          4\n",
       "Carrots and turnips                   4\n",
       "Cashew nuts, with shell               4\n",
       "Cassava                               4\n",
       "Castor oil seed                       4\n",
       "Cauliflowers and broccoli             4\n",
       "Chick peas                            4\n",
       "Chillies and peppers, dry             4\n",
       "Chillies and peppers, green           4\n",
       "Cow peas, dry                         4\n",
       "Fruit, citrus nes                     4\n",
       "Fruit, tropical fresh nes             4\n",
       "Garlic                                4\n",
       "Ginger                                4\n",
       "Groundnuts, with shell                4\n",
       "Leeks, other alliaceous vegetables    4\n",
       "Lemons and limes                      4\n",
       "Yams                                  4\n",
       "dtype: int64"
      ]
     },
     "execution_count": 77,
     "metadata": {},
     "output_type": "execute_result"
    }
   ],
   "source": [
    "data.loc[Crops_in_Ke, [\"Crop\"]].value_counts()"
   ]
  },
  {
   "cell_type": "code",
   "execution_count": 189,
   "id": "42afd19d",
   "metadata": {},
   "outputs": [
    {
     "name": "stdout",
     "output_type": "stream",
     "text": [
      " All Crops had an equal production\n"
     ]
    }
   ],
   "source": [
    "print(\" All Crops had an equal production\")"
   ]
  },
  {
   "cell_type": "markdown",
   "id": "05ad40ab",
   "metadata": {},
   "source": [
    "# Question 5: Production Data Eastern Africa"
   ]
  },
  {
   "cell_type": "code",
   "execution_count": 9,
   "id": "cc498693",
   "metadata": {},
   "outputs": [],
   "source": [
    "Production = (data[\"Element\"] == \"Production\") "
   ]
  },
  {
   "cell_type": "code",
   "execution_count": 82,
   "id": "ba628bc8",
   "metadata": {},
   "outputs": [
    {
     "data": {
      "text/plain": [
       "Crop              Year  Value    \n",
       "Castor oil seed   2018  3000.0       2\n",
       "                  2017  3000.0       2\n",
       "                  2016  3000.0       2\n",
       "Rice, paddy       2016  3815849.0    1\n",
       "                        133000.0     1\n",
       "                        136001.0     1\n",
       "                        146633.0     1\n",
       "                        214910.0     1\n",
       "                        2229000.0    1\n",
       "                  2017  160.0        1\n",
       "                  2016  101510.0     1\n",
       "                  2017  1433.0       1\n",
       "                        1532.0       1\n",
       "                        32970.0      1\n",
       "                        38423.0      1\n",
       "                        81198.0      1\n",
       "                  2016  110544.0     1\n",
       "                        83757.0      1\n",
       "                  2017  108958.0     1\n",
       "                  2016  31700.0      1\n",
       "                        26675.0      1\n",
       "                        1475.0       1\n",
       "                        1375.0       1\n",
       "                        352.0        1\n",
       "Pyrethrum, dried  2019  7347.0       1\n",
       "                        2993.0       1\n",
       "                        217.0        1\n",
       "                  2018  7080.0       1\n",
       "                        1688.0       1\n",
       "                        212.0        1\n",
       "                  2017  6717.0       1\n",
       "Rice, paddy       2017  88298.0      1\n",
       "                        138000.0     1\n",
       "                        121079.0     1\n",
       "                  2019  170630.0     1\n",
       "                        160584.0     1\n",
       "                        133000.0     1\n",
       "                        131577.0     1\n",
       "                        88510.0      1\n",
       "                        35510.0      1\n",
       "                        29584.0      1\n",
       "                        1560.0       1\n",
       "                        1146.0       1\n",
       "                        21.0         1\n",
       "                  2018  4030000.0    1\n",
       "                        3414815.0    1\n",
       "                        413000.0     1\n",
       "                        245910.0     1\n",
       "                        171854.0     1\n",
       "                        119932.0     1\n",
       "dtype: int64"
      ]
     },
     "execution_count": 82,
     "metadata": {},
     "output_type": "execute_result"
    }
   ],
   "source": [
    "data.loc [Production, [\"Crop\", \"Year\",\"Value\"]].value_counts().head(50)\n"
   ]
  },
  {
   "cell_type": "code",
   "execution_count": 36,
   "id": "5916bef3",
   "metadata": {},
   "outputs": [
    {
     "data": {
      "text/plain": [
       "Value    773086248.0\n",
       "dtype: float64"
      ]
     },
     "execution_count": 36,
     "metadata": {},
     "output_type": "execute_result"
    }
   ],
   "source": [
    "data.loc[Production, [\"Value\"]].sum()\n",
    "### Figure is in Tonnes"
   ]
  },
  {
   "cell_type": "markdown",
   "id": "d5a2711b",
   "metadata": {},
   "source": [
    "## Most Produced Crops in Eastern Africa"
   ]
  },
  {
   "cell_type": "code",
   "execution_count": 25,
   "id": "f3914100",
   "metadata": {},
   "outputs": [],
   "source": [
    "Crops = (data[\"Element\"] == \"Production\")"
   ]
  },
  {
   "cell_type": "code",
   "execution_count": 161,
   "id": "197f6a95",
   "metadata": {},
   "outputs": [
    {
     "data": {
      "text/plain": [
       "<AxesSubplot:ylabel='Crop'>"
      ]
     },
     "execution_count": 161,
     "metadata": {},
     "output_type": "execute_result"
    },
    {
     "data": {
      "image/png": "[encoded data removed]",
      "text/plain": [
       "<Figure size 432x288 with 1 Axes>"
      ]
     },
     "metadata": {
      "needs_background": "light"
     },
     "output_type": "display_data"
    }
   ],
   "source": [
    "data.loc[Crops,[\"Crop\"]].value_counts().head(20).plot.barh()"
   ]
  },
  {
   "cell_type": "code",
   "execution_count": 190,
   "id": "bec79587",
   "metadata": {},
   "outputs": [
    {
     "name": "stdout",
     "output_type": "stream",
     "text": [
      "The most Produced crops were: Vegetables(fresh), Maize and Bananas in that order\n"
     ]
    }
   ],
   "source": [
    "print(\"The most Produced crops were: Vegetables(fresh), Maize and Bananas in that order\")"
   ]
  },
  {
   "cell_type": "markdown",
   "id": "f8d1d40c",
   "metadata": {},
   "source": [
    "# Question 6 : Production Comparison Between Kenya, Uganda and Tanzania"
   ]
  },
  {
   "cell_type": "code",
   "execution_count": 104,
   "id": "5bc7d1e8",
   "metadata": {},
   "outputs": [],
   "source": [
    "Kenya = data[data.Area == \"Kenya\"].sum()[\"Value\"]"
   ]
  },
  {
   "cell_type": "code",
   "execution_count": 106,
   "id": "fb4d26b9",
   "metadata": {},
   "outputs": [],
   "source": [
    "Uganda = data[data.Area == \"Uganda\"].sum()[\"Value\"]"
   ]
  },
  {
   "cell_type": "code",
   "execution_count": 118,
   "id": "4918e60a",
   "metadata": {},
   "outputs": [],
   "source": [
    "Tanzania = data[data.Area == \"United Republic of Tanzania\"].sum()[\"Value\"]"
   ]
  },
  {
   "cell_type": "code",
   "execution_count": 116,
   "id": "920f44d4",
   "metadata": {},
   "outputs": [
    {
     "data": {
      "image/png": "[encoded data removed]",
      "text/plain": [
       "<Figure size 432x288 with 1 Axes>"
      ]
     },
     "metadata": {
      "needs_background": "light"
     },
     "output_type": "display_data"
    }
   ],
   "source": [
    "x=[Kenya,Uganda,Tanzania]\n",
    "y=[\"Kenya\",\"Uganda\",\"Tanzania\"]\n",
    "plt.bar(y,x)\n",
    "plt.ylabel(\"Value in (000')\")\n",
    "plt.show()"
   ]
  },
  {
   "cell_type": "code",
   "execution_count": 191,
   "id": "3fd0f004",
   "metadata": {},
   "outputs": [
    {
     "name": "stdout",
     "output_type": "stream",
     "text": [
      "From the Bar graph we can conclude that Tanzania is the country with the highest produce\n"
     ]
    }
   ],
   "source": [
    "print(\"From the Bar graph we can conclude that Tanzania is the country with the highest produce\")"
   ]
  },
  {
   "cell_type": "markdown",
   "id": "935d7861",
   "metadata": {},
   "source": [
    "# Question 7 : Production Percentage rates of six EA Countries"
   ]
  },
  {
   "cell_type": "code",
   "execution_count": 133,
   "id": "9fc80f87",
   "metadata": {},
   "outputs": [],
   "source": [
    "Production_Values = [65585100,147269255,80779264,25615403,126331524,23273647]\n",
    "Production_Labels = [\"Uganda\",\"Tanzania\",\"Kenya\",\"Burundi\",\"Ethiopia\",\"Zimbabwe\"]"
   ]
  },
  {
   "cell_type": "code",
   "execution_count": 137,
   "id": "70b9a881",
   "metadata": {},
   "outputs": [
    {
     "data": {
      "image/png": "[encoded data removed]",
      "text/plain": [
       "<Figure size 432x288 with 1 Axes>"
      ]
     },
     "metadata": {},
     "output_type": "display_data"
    }
   ],
   "source": [
    "plt.axis(\"equal\")\n",
    "plt.pie(Production_Values,labels=Production_Labels,radius=1.5,autopct=\"%0.1f%%\")\n",
    "plt.show()"
   ]
  },
  {
   "cell_type": "markdown",
   "id": "31eed99f",
   "metadata": {},
   "source": [
    "# Question 8 : Production of Maize in Eastern Africa"
   ]
  },
  {
   "cell_type": "code",
   "execution_count": 183,
   "id": "0d78aa8b",
   "metadata": {},
   "outputs": [],
   "source": [
    "Maize = (data[\"Crop\"] == \"Maize\") & (data[\"Area\"] == \"Zambia\")"
   ]
  },
  {
   "cell_type": "code",
   "execution_count": 184,
   "id": "1d4d8e44",
   "metadata": {},
   "outputs": [
    {
     "data": {
      "text/plain": [
       "Value    10878897.0\n",
       "dtype: float64"
      ]
     },
     "execution_count": 184,
     "metadata": {},
     "output_type": "execute_result"
    }
   ],
   "source": [
    "data.loc[Maize, [\"Value\"]].sum()"
   ]
  },
  {
   "cell_type": "code",
   "execution_count": 185,
   "id": "3b0b8116",
   "metadata": {},
   "outputs": [],
   "source": [
    "Maize_Values =[14435777,4381488,24754914,10462241,1033406,39090562,11561591,10878897,296000,1564182]\n",
    "Country_Values = [\"Kenya\",\"Zimbabwe\",\"Tanzania\",\"Uganda\",\"Burundi\",\"Ethiopia\",\"Malawi\",\"Zambia\",\"Somalia\",\"Rwanda\"]"
   ]
  },
  {
   "cell_type": "code",
   "execution_count": 188,
   "id": "7f4a0e8a",
   "metadata": {},
   "outputs": [
    {
     "data": {
      "image/png": "[encoded data removed]",
      "text/plain": [
       "<Figure size 432x288 with 1 Axes>"
      ]
     },
     "metadata": {},
     "output_type": "display_data"
    }
   ],
   "source": [
    "plt.axis(\"Equal\")\n",
    "plt.pie(Maize_Values,labels=Country_Values,radius=1.5,autopct=\"%0.2f%%\")\n",
    "plt.show()"
   ]
  },
  {
   "cell_type": "code",
   "execution_count": 192,
   "id": "345432e5",
   "metadata": {},
   "outputs": [
    {
     "name": "stdout",
     "output_type": "stream",
     "text": [
      "From the Pie chart we can conclude that Ethiopia was the highest producer of maize followed by Tanzania then Kenya\n"
     ]
    }
   ],
   "source": [
    "print(\"From the Pie chart we can conclude that Ethiopia was the highest producer of maize followed by Tanzania then Kenya\")"
   ]
  },
  {
   "cell_type": "markdown",
   "id": "d5969b2c",
   "metadata": {},
   "source": [
    "# Question 9 : Amount of land Harvested in 'Ha'"
   ]
  },
  {
   "cell_type": "code",
   "execution_count": 140,
   "id": "9da0eae4",
   "metadata": {},
   "outputs": [],
   "source": [
    "Harvest = (Data[\"Element\"] == \"Area harvested\")\n"
   ]
  },
  {
   "cell_type": "code",
   "execution_count": 141,
   "id": "6824e1bf",
   "metadata": {},
   "outputs": [
    {
     "data": {
      "text/plain": [
       "221783078.0"
      ]
     },
     "execution_count": 141,
     "metadata": {},
     "output_type": "execute_result"
    }
   ],
   "source": [
    "Data.loc[Harvest][\"Value\"].sum()"
   ]
  },
  {
   "cell_type": "code",
   "execution_count": 148,
   "id": "480baa05",
   "metadata": {},
   "outputs": [
    {
     "data": {
      "image/png": "[encoded data removed]",
      "text/plain": [
       "<Figure size 432x288 with 1 Axes>"
      ]
     },
     "metadata": {
      "needs_background": "light"
     },
     "output_type": "display_data"
    }
   ],
   "source": [
    "plt.barh(Data.Area, Data.Value/ 10**6)\n",
    "plt.title(\"Total Hectares of land Harvested Per Country\")\n",
    "plt.xlabel(\"Value in (Ha)\")\n",
    "plt.ylabel(\"Countries\")\n",
    "plt.show()"
   ]
  },
  {
   "cell_type": "code",
   "execution_count": 193,
   "id": "743f090b",
   "metadata": {},
   "outputs": [
    {
     "name": "stdout",
     "output_type": "stream",
     "text": [
      "Tanzania is the country where most land was used harvested\n"
     ]
    }
   ],
   "source": [
    "print(\"Tanzania is the country where most land was used harvested\")"
   ]
  },
  {
   "cell_type": "code",
   "execution_count": null,
   "id": "219fe50d",
   "metadata": {},
   "outputs": [],
   "source": []
  }
 ],
 "metadata": {
  "kernelspec": {
   "display_name": "Python 3",
   "language": "python",
   "name": "python3"
  },
  "language_info": {
   "codemirror_mode": {
    "name": "ipython",
    "version": 3
   },
   "file_extension": ".py",
   "mimetype": "text/x-python",
   "name": "python",
   "nbconvert_exporter": "python",
   "pygments_lexer": "ipython3",
   "version": "3.9.1"
  }
 },
 "nbformat": 4,
 "nbformat_minor": 5
}
