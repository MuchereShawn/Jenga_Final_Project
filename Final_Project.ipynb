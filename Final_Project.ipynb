{
 "cells": [
  {
   "cell_type": "markdown",
   "id": "3e1cbc0a",
   "metadata": {},
   "source": [
    "# Crop Production Analysis\n",
    "Agriculture is one of the most practiced activity in the world giving a huge contribution to various economies.As a data science student at Jenga School i have used the following datasets to visualize crop production in kenya and the rest of Eastern Africa and my project will answer the following questions as stated below step by step.\n",
    "\n",
    "This datasets were found at http://www.fao.org/faostat/en/#data/QC"
   ]
  },
  {
   "cell_type": "code",
   "execution_count": 1,
   "id": "21f3f34e",
   "metadata": {},
   "outputs": [],
   "source": [
    "import pandas as pd\n",
    "import numpy as np\n",
    "import matplotlib.pyplot as plt\n"
   ]
  },
  {
   "cell_type": "markdown",
   "id": "d265cfbb",
   "metadata": {},
   "source": [
    "# Loading Data"
   ]
  },
  {
   "cell_type": "code",
   "execution_count": 2,
   "id": "363030e3",
   "metadata": {},
   "outputs": [],
   "source": [
    "data = pd.read_csv(\"FAOSTAT_data_6-28-2021 Production.csv\")\n",
    "Data = pd.read_csv(\"FAOSTAT_data_6-28-2021 (1) Harvest.csv\")"
   ]
  },
  {
   "cell_type": "code",
   "execution_count": 3,
   "id": "f8e9cc71",
   "metadata": {},
   "outputs": [
    {
     "name": "stdout",
     "output_type": "stream",
     "text": [
      "<class 'pandas.core.frame.DataFrame'>\n",
      "RangeIndex: 2157 entries, 0 to 2156\n",
      "Data columns (total 7 columns):\n",
      " #   Column   Non-Null Count  Dtype  \n",
      "---  ------   --------------  -----  \n",
      " 0   Domain   2157 non-null   object \n",
      " 1   Area     2157 non-null   object \n",
      " 2   Element  2157 non-null   object \n",
      " 3   Crop     2157 non-null   object \n",
      " 4   Year     2157 non-null   int64  \n",
      " 5   Unit     2157 non-null   object \n",
      " 6   Value    2017 non-null   float64\n",
      "dtypes: float64(1), int64(1), object(5)\n",
      "memory usage: 118.1+ KB\n"
     ]
    }
   ],
   "source": [
    "data.info()"
   ]
  },
  {
   "cell_type": "code",
   "execution_count": 4,
   "id": "ea0e7878",
   "metadata": {},
   "outputs": [
    {
     "data": {
      "text/html": [
       "<div>\n",
       "<style scoped>\n",
       "    .dataframe tbody tr th:only-of-type {\n",
       "        vertical-align: middle;\n",
       "    }\n",
       "\n",
       "    .dataframe tbody tr th {\n",
       "        vertical-align: top;\n",
       "    }\n",
       "\n",
       "    .dataframe thead th {\n",
       "        text-align: right;\n",
       "    }\n",
       "</style>\n",
       "<table border=\"1\" class=\"dataframe\">\n",
       "  <thead>\n",
       "    <tr style=\"text-align: right;\">\n",
       "      <th></th>\n",
       "      <th>Year</th>\n",
       "      <th>Value</th>\n",
       "    </tr>\n",
       "  </thead>\n",
       "  <tbody>\n",
       "    <tr>\n",
       "      <th>count</th>\n",
       "      <td>2157.000000</td>\n",
       "      <td>2.017000e+03</td>\n",
       "    </tr>\n",
       "    <tr>\n",
       "      <th>mean</th>\n",
       "      <td>2017.501623</td>\n",
       "      <td>3.811324e+05</td>\n",
       "    </tr>\n",
       "    <tr>\n",
       "      <th>std</th>\n",
       "      <td>1.118085</td>\n",
       "      <td>1.044898e+06</td>\n",
       "    </tr>\n",
       "    <tr>\n",
       "      <th>min</th>\n",
       "      <td>2016.000000</td>\n",
       "      <td>0.000000e+00</td>\n",
       "    </tr>\n",
       "    <tr>\n",
       "      <th>25%</th>\n",
       "      <td>2017.000000</td>\n",
       "      <td>3.169000e+03</td>\n",
       "    </tr>\n",
       "    <tr>\n",
       "      <th>50%</th>\n",
       "      <td>2018.000000</td>\n",
       "      <td>2.500000e+04</td>\n",
       "    </tr>\n",
       "    <tr>\n",
       "      <th>75%</th>\n",
       "      <td>2019.000000</td>\n",
       "      <td>1.934610e+05</td>\n",
       "    </tr>\n",
       "    <tr>\n",
       "      <th>max</th>\n",
       "      <td>2019.000000</td>\n",
       "      <td>1.048819e+07</td>\n",
       "    </tr>\n",
       "  </tbody>\n",
       "</table>\n",
       "</div>"
      ],
      "text/plain": [
       "              Year         Value\n",
       "count  2157.000000  2.017000e+03\n",
       "mean   2017.501623  3.811324e+05\n",
       "std       1.118085  1.044898e+06\n",
       "min    2016.000000  0.000000e+00\n",
       "25%    2017.000000  3.169000e+03\n",
       "50%    2018.000000  2.500000e+04\n",
       "75%    2019.000000  1.934610e+05\n",
       "max    2019.000000  1.048819e+07"
      ]
     },
     "execution_count": 4,
     "metadata": {},
     "output_type": "execute_result"
    }
   ],
   "source": [
    "data.describe()"
   ]
  },
  {
   "cell_type": "markdown",
   "id": "acefd409",
   "metadata": {},
   "source": [
    "# Question 1: Which Country had the most production Volume in Eastern Africa"
   ]
  },
  {
   "cell_type": "code",
   "execution_count": 5,
   "id": "31485c82",
   "metadata": {},
   "outputs": [
    {
     "data": {
      "image/png": "[encoded data removed]",
      "text/plain": [
       "<Figure size 432x288 with 1 Axes>"
      ]
     },
     "metadata": {
      "needs_background": "light"
     },
     "output_type": "display_data"
    }
   ],
   "source": [
    "bars=plt.barh(data.Area, data.Value / 10*6)\n",
    "plt.title(\"Production Rates in Eastern Africa\", fontsize=20, fontweight=\"bold\")\n",
    "plt.xlabel(\"Value (000')\",fontsize=15, fontweight=\"bold\")\n",
    "plt.ylabel(\"Country\",fontsize=15, fontweight=\"bold\")\n",
    "plt.rcParams[\"figure.figsize\"] = (10,6)\n",
    "data.sort_values(\"Value\", inplace= True)\n",
    "bars[5].set_hatch(\"/\")\n",
    "plt.show()"
   ]
  },
  {
   "cell_type": "markdown",
   "id": "04485055",
   "metadata": {},
   "source": [
    "# Question 2: What Is The Total Number of Tonnes of Crops Procuced In the 4years"
   ]
  },
  {
   "cell_type": "code",
   "execution_count": 6,
   "id": "47139329",
   "metadata": {},
   "outputs": [
    {
     "data": {
      "text/plain": [
       "768743974.0"
      ]
     },
     "execution_count": 6,
     "metadata": {},
     "output_type": "execute_result"
    }
   ],
   "source": [
    "Production = (data[\"Element\"] == \"Production\")\n",
    "data.loc[Production][\"Value\"].sum()"
   ]
  },
  {
   "cell_type": "markdown",
   "id": "52b248b1",
   "metadata": {},
   "source": [
    "# Question 3: Which Is The Year With the Most Production and Area Harvested  Eastern Africa."
   ]
  },
  {
   "cell_type": "code",
   "execution_count": 91,
   "id": "969d6fa5",
   "metadata": {},
   "outputs": [
    {
     "data": {
      "image/png": "[encoded data removed]",
      "text/plain": [
       "<Figure size 720x432 with 1 Axes>"
      ]
     },
     "metadata": {
      "needs_background": "light"
     },
     "output_type": "display_data"
    }
   ],
   "source": [
    "### PRODUCTION\n",
    "w=0.4\n",
    "plt.bar(data.Year, data.Value / 10**5)\n",
    "plt.title(\"Most Productive Year\",fontsize=20, fontweight=\"bold\")\n",
    "plt.xlabel(\"Year\",fontsize=15, fontweight=\"bold\")\n",
    "plt.ylabel(\"Value in metric Tonnes millions\",fontsize=15, fontweight=\"bold\")\n",
    "plt.show()\n"
   ]
  },
  {
   "cell_type": "code",
   "execution_count": 8,
   "id": "07645b9b",
   "metadata": {},
   "outputs": [],
   "source": [
    "### Area Harvested"
   ]
  },
  {
   "cell_type": "code",
   "execution_count": 9,
   "id": "fcd34f5c",
   "metadata": {},
   "outputs": [
    {
     "data": {
      "image/png": "[encoded data removed]",
      "text/plain": [
       "<Figure size 720x432 with 1 Axes>"
      ]
     },
     "metadata": {
      "needs_background": "light"
     },
     "output_type": "display_data"
    }
   ],
   "source": [
    "plt.bar(Data.Year, Data.Value / 10**4)\n",
    "plt.title(\"Most area harvested in a year\",fontsize=20, fontweight=\"bold\")\n",
    "plt.xlabel(\"Year\",fontsize=15, fontweight=\"bold\")\n",
    "plt.ylabel(\"Value in Ha\",fontsize=15, fontweight=\"bold\")\n",
    "plt.show()\n"
   ]
  },
  {
   "cell_type": "markdown",
   "id": "7660e0b5",
   "metadata": {},
   "source": [
    "# Question 4: Production Data Kenya"
   ]
  },
  {
   "cell_type": "code",
   "execution_count": 50,
   "id": "cc9584a0",
   "metadata": {},
   "outputs": [],
   "source": [
    "Kenya = (data[\"Area\"] == \"Kenya\") & (data[\"Element\"] == \"Production\")\n"
   ]
  },
  {
   "cell_type": "code",
   "execution_count": 51,
   "id": "ea656fce",
   "metadata": {},
   "outputs": [
    {
     "data": {
      "text/html": [
       "<div>\n",
       "<style scoped>\n",
       "    .dataframe tbody tr th:only-of-type {\n",
       "        vertical-align: middle;\n",
       "    }\n",
       "\n",
       "    .dataframe tbody tr th {\n",
       "        vertical-align: top;\n",
       "    }\n",
       "\n",
       "    .dataframe thead th {\n",
       "        text-align: right;\n",
       "    }\n",
       "</style>\n",
       "<table border=\"1\" class=\"dataframe\">\n",
       "  <thead>\n",
       "    <tr style=\"text-align: right;\">\n",
       "      <th></th>\n",
       "      <th>Domain</th>\n",
       "      <th>Area</th>\n",
       "      <th>Element</th>\n",
       "      <th>Crop</th>\n",
       "      <th>Year</th>\n",
       "      <th>Unit</th>\n",
       "      <th>Value</th>\n",
       "    </tr>\n",
       "  </thead>\n",
       "  <tbody>\n",
       "    <tr>\n",
       "      <th>497</th>\n",
       "      <td>Crops</td>\n",
       "      <td>Kenya</td>\n",
       "      <td>Production</td>\n",
       "      <td>Ginger</td>\n",
       "      <td>2018</td>\n",
       "      <td>tonnes</td>\n",
       "      <td>15.0</td>\n",
       "    </tr>\n",
       "    <tr>\n",
       "      <th>496</th>\n",
       "      <td>Crops</td>\n",
       "      <td>Kenya</td>\n",
       "      <td>Production</td>\n",
       "      <td>Ginger</td>\n",
       "      <td>2017</td>\n",
       "      <td>tonnes</td>\n",
       "      <td>84.0</td>\n",
       "    </tr>\n",
       "    <tr>\n",
       "      <th>548</th>\n",
       "      <td>Crops</td>\n",
       "      <td>Kenya</td>\n",
       "      <td>Production</td>\n",
       "      <td>Pyrethrum, dried</td>\n",
       "      <td>2017</td>\n",
       "      <td>tonnes</td>\n",
       "      <td>166.0</td>\n",
       "    </tr>\n",
       "    <tr>\n",
       "      <th>549</th>\n",
       "      <td>Crops</td>\n",
       "      <td>Kenya</td>\n",
       "      <td>Production</td>\n",
       "      <td>Pyrethrum, dried</td>\n",
       "      <td>2018</td>\n",
       "      <td>tonnes</td>\n",
       "      <td>212.0</td>\n",
       "    </tr>\n",
       "    <tr>\n",
       "      <th>550</th>\n",
       "      <td>Crops</td>\n",
       "      <td>Kenya</td>\n",
       "      <td>Production</td>\n",
       "      <td>Pyrethrum, dried</td>\n",
       "      <td>2019</td>\n",
       "      <td>tonnes</td>\n",
       "      <td>217.0</td>\n",
       "    </tr>\n",
       "    <tr>\n",
       "      <th>...</th>\n",
       "      <td>...</td>\n",
       "      <td>...</td>\n",
       "      <td>...</td>\n",
       "      <td>...</td>\n",
       "      <td>...</td>\n",
       "      <td>...</td>\n",
       "      <td>...</td>\n",
       "    </tr>\n",
       "    <tr>\n",
       "      <th>513</th>\n",
       "      <td>Crops</td>\n",
       "      <td>Kenya</td>\n",
       "      <td>Production</td>\n",
       "      <td>Maize</td>\n",
       "      <td>2018</td>\n",
       "      <td>tonnes</td>\n",
       "      <td>4013777.0</td>\n",
       "    </tr>\n",
       "    <tr>\n",
       "      <th>578</th>\n",
       "      <td>Crops</td>\n",
       "      <td>Kenya</td>\n",
       "      <td>Production</td>\n",
       "      <td>Sugar cane</td>\n",
       "      <td>2019</td>\n",
       "      <td>tonnes</td>\n",
       "      <td>4606100.0</td>\n",
       "    </tr>\n",
       "    <tr>\n",
       "      <th>576</th>\n",
       "      <td>Crops</td>\n",
       "      <td>Kenya</td>\n",
       "      <td>Production</td>\n",
       "      <td>Sugar cane</td>\n",
       "      <td>2017</td>\n",
       "      <td>tonnes</td>\n",
       "      <td>4751605.0</td>\n",
       "    </tr>\n",
       "    <tr>\n",
       "      <th>577</th>\n",
       "      <td>Crops</td>\n",
       "      <td>Kenya</td>\n",
       "      <td>Production</td>\n",
       "      <td>Sugar cane</td>\n",
       "      <td>2018</td>\n",
       "      <td>tonnes</td>\n",
       "      <td>5262157.0</td>\n",
       "    </tr>\n",
       "    <tr>\n",
       "      <th>575</th>\n",
       "      <td>Crops</td>\n",
       "      <td>Kenya</td>\n",
       "      <td>Production</td>\n",
       "      <td>Sugar cane</td>\n",
       "      <td>2016</td>\n",
       "      <td>tonnes</td>\n",
       "      <td>7094619.0</td>\n",
       "    </tr>\n",
       "  </tbody>\n",
       "</table>\n",
       "<p>196 rows × 7 columns</p>\n",
       "</div>"
      ],
      "text/plain": [
       "    Domain   Area     Element              Crop  Year    Unit      Value\n",
       "497  Crops  Kenya  Production            Ginger  2018  tonnes       15.0\n",
       "496  Crops  Kenya  Production            Ginger  2017  tonnes       84.0\n",
       "548  Crops  Kenya  Production  Pyrethrum, dried  2017  tonnes      166.0\n",
       "549  Crops  Kenya  Production  Pyrethrum, dried  2018  tonnes      212.0\n",
       "550  Crops  Kenya  Production  Pyrethrum, dried  2019  tonnes      217.0\n",
       "..     ...    ...         ...               ...   ...     ...        ...\n",
       "513  Crops  Kenya  Production             Maize  2018  tonnes  4013777.0\n",
       "578  Crops  Kenya  Production        Sugar cane  2019  tonnes  4606100.0\n",
       "576  Crops  Kenya  Production        Sugar cane  2017  tonnes  4751605.0\n",
       "577  Crops  Kenya  Production        Sugar cane  2018  tonnes  5262157.0\n",
       "575  Crops  Kenya  Production        Sugar cane  2016  tonnes  7094619.0\n",
       "\n",
       "[196 rows x 7 columns]"
      ]
     },
     "execution_count": 51,
     "metadata": {},
     "output_type": "execute_result"
    }
   ],
   "source": [
    "data.loc[Kenya]"
   ]
  },
  {
   "cell_type": "code",
   "execution_count": 12,
   "id": "13e29d92",
   "metadata": {},
   "outputs": [
    {
     "data": {
      "text/plain": [
       "Value    80779264.0\n",
       "dtype: float64"
      ]
     },
     "execution_count": 12,
     "metadata": {},
     "output_type": "execute_result"
    }
   ],
   "source": [
    "data.loc[Kenya,[\"Value\"]].sum()\n",
    "### Figure is in Tonnes"
   ]
  },
  {
   "cell_type": "markdown",
   "id": "342f11c1",
   "metadata": {},
   "source": [
    "## Most Produced Crop in Kenya"
   ]
  },
  {
   "cell_type": "code",
   "execution_count": 13,
   "id": "9da145b9",
   "metadata": {},
   "outputs": [],
   "source": [
    "Per_Area = data.groupby([\"Area\",\"Crop\"])[\"Value\"].sum()"
   ]
  },
  {
   "cell_type": "code",
   "execution_count": 14,
   "id": "bd980d7b",
   "metadata": {},
   "outputs": [
    {
     "data": {
      "text/plain": [
       "Crop\n",
       "Sugar cane                            21714481.0\n",
       "Maize                                 14435777.0\n",
       "Potatoes                               6726128.0\n",
       "Bananas                                5852696.0\n",
       "Cassava                                3278256.0\n",
       "Sweet potatoes                         3231419.0\n",
       "Beans, dry                             3158160.0\n",
       "Cabbages and other brassicas           3044058.0\n",
       "Mangoes, mangosteens, guavas           2909991.0\n",
       "Vegetables, fresh nes                  2620173.0\n",
       "Tomatoes                               2059319.0\n",
       "Tea                                    1864697.0\n",
       "Pineapples                             1251772.0\n",
       "Wheat                                  1082700.0\n",
       "Avocados                                992601.0\n",
       "Carrots and turnips                     879097.0\n",
       "Sorghum                                 738000.0\n",
       "Watermelons                             734192.0\n",
       "Cow peas, dry                           710251.0\n",
       "Spinach                                 554434.0\n",
       "Rice, paddy                             455897.0\n",
       "Fruit, citrus nes                       341790.0\n",
       "Millet                                  315000.0\n",
       "Barley                                  303048.0\n",
       "Oranges                                 299020.0\n",
       "Peas, green                             207321.0\n",
       "Beans, green                            165474.0\n",
       "Fruit, tropical fresh nes               157163.0\n",
       "Onions, dry                             148098.0\n",
       "Sisal                                    87212.0\n",
       "Lemons and limes                         78872.0\n",
       "Cashew nuts, with shell                  70674.0\n",
       "Groundnuts, with shell                   66756.0\n",
       "Sunflower seed                           57472.0\n",
       "Seed cotton                              42300.0\n",
       "Yams                                     42275.0\n",
       "Cauliflowers and broccoli                21611.0\n",
       "Oats                                     14441.0\n",
       "Castor oil seed                          13000.0\n",
       "Chillies and peppers, dry                10980.0\n",
       "Soybeans                                  9319.0\n",
       "Chillies and peppers, green               8915.0\n",
       "Garlic                                    8335.0\n",
       "Vegetables, leguminous nes                5895.0\n",
       "Chick peas                                5383.0\n",
       "Apples                                    2051.0\n",
       "Leeks, other alliaceous vegetables        1244.0\n",
       "Pyrethrum, dried                           834.0\n",
       "Ginger                                     682.0\n",
       "Name: Value, dtype: float64"
      ]
     },
     "execution_count": 14,
     "metadata": {},
     "output_type": "execute_result"
    }
   ],
   "source": [
    "Per_Area[\"Kenya\"].sort_values(ascending=False)"
   ]
  },
  {
   "cell_type": "code",
   "execution_count": 85,
   "id": "0b7d19d3",
   "metadata": {},
   "outputs": [
    {
     "data": {
      "text/plain": [
       "Text(0, 0.5, 'Crop')"
      ]
     },
     "execution_count": 85,
     "metadata": {},
     "output_type": "execute_result"
    },
    {
     "data": {
      "image/png": "[encoded data removed]",
      "text/plain": [
       "<Figure size 648x576 with 1 Axes>"
      ]
     },
     "metadata": {
      "needs_background": "light"
     },
     "output_type": "display_data"
    }
   ],
   "source": [
    "Per_Area[\"Kenya\"].sort_values(ascending=False).head(10).plot.barh(figsize = (9,8) ,fontsize=13)\n",
    "plt.xlabel(\"Value in metric tonnes millions\",fontsize=13)\n",
    "plt.ylabel(\"Crop\",fontsize=13)\n",
    "##This is a graphical representtion of the data."
   ]
  },
  {
   "cell_type": "markdown",
   "id": "7dabfd23",
   "metadata": {},
   "source": [
    "## Production of Sugarcane and Maize in Kenya"
   ]
  },
  {
   "cell_type": "code",
   "execution_count": 71,
   "id": "ab48c849",
   "metadata": {},
   "outputs": [],
   "source": [
    "SugarCane = (data[\"Area\"] == \"Kenya\") & (data[\"Element\"] == \"Production\") & (data[\"Crop\"] == \"Sugar cane\")"
   ]
  },
  {
   "cell_type": "code",
   "execution_count": 72,
   "id": "ee6ddff8",
   "metadata": {},
   "outputs": [
    {
     "data": {
      "text/html": [
       "<div>\n",
       "<style scoped>\n",
       "    .dataframe tbody tr th:only-of-type {\n",
       "        vertical-align: middle;\n",
       "    }\n",
       "\n",
       "    .dataframe tbody tr th {\n",
       "        vertical-align: top;\n",
       "    }\n",
       "\n",
       "    .dataframe thead th {\n",
       "        text-align: right;\n",
       "    }\n",
       "</style>\n",
       "<table border=\"1\" class=\"dataframe\">\n",
       "  <thead>\n",
       "    <tr style=\"text-align: right;\">\n",
       "      <th></th>\n",
       "      <th>Domain</th>\n",
       "      <th>Area</th>\n",
       "      <th>Element</th>\n",
       "      <th>Crop</th>\n",
       "      <th>Year</th>\n",
       "      <th>Unit</th>\n",
       "      <th>Value</th>\n",
       "    </tr>\n",
       "  </thead>\n",
       "  <tbody>\n",
       "    <tr>\n",
       "      <th>578</th>\n",
       "      <td>Crops</td>\n",
       "      <td>Kenya</td>\n",
       "      <td>Production</td>\n",
       "      <td>Sugar cane</td>\n",
       "      <td>2019</td>\n",
       "      <td>tonnes</td>\n",
       "      <td>4606100.0</td>\n",
       "    </tr>\n",
       "    <tr>\n",
       "      <th>576</th>\n",
       "      <td>Crops</td>\n",
       "      <td>Kenya</td>\n",
       "      <td>Production</td>\n",
       "      <td>Sugar cane</td>\n",
       "      <td>2017</td>\n",
       "      <td>tonnes</td>\n",
       "      <td>4751605.0</td>\n",
       "    </tr>\n",
       "    <tr>\n",
       "      <th>577</th>\n",
       "      <td>Crops</td>\n",
       "      <td>Kenya</td>\n",
       "      <td>Production</td>\n",
       "      <td>Sugar cane</td>\n",
       "      <td>2018</td>\n",
       "      <td>tonnes</td>\n",
       "      <td>5262157.0</td>\n",
       "    </tr>\n",
       "    <tr>\n",
       "      <th>575</th>\n",
       "      <td>Crops</td>\n",
       "      <td>Kenya</td>\n",
       "      <td>Production</td>\n",
       "      <td>Sugar cane</td>\n",
       "      <td>2016</td>\n",
       "      <td>tonnes</td>\n",
       "      <td>7094619.0</td>\n",
       "    </tr>\n",
       "  </tbody>\n",
       "</table>\n",
       "</div>"
      ],
      "text/plain": [
       "    Domain   Area     Element        Crop  Year    Unit      Value\n",
       "578  Crops  Kenya  Production  Sugar cane  2019  tonnes  4606100.0\n",
       "576  Crops  Kenya  Production  Sugar cane  2017  tonnes  4751605.0\n",
       "577  Crops  Kenya  Production  Sugar cane  2018  tonnes  5262157.0\n",
       "575  Crops  Kenya  Production  Sugar cane  2016  tonnes  7094619.0"
      ]
     },
     "execution_count": 72,
     "metadata": {},
     "output_type": "execute_result"
    }
   ],
   "source": [
    "data.loc[SugarCane]\n"
   ]
  },
  {
   "cell_type": "code",
   "execution_count": 68,
   "id": "e5dbd06a",
   "metadata": {},
   "outputs": [],
   "source": [
    "Maize = (data[\"Area\"] == \"Kenya\") & (data[\"Element\"] == \"Production\") & (data[\"Crop\"] == \"Maize\")"
   ]
  },
  {
   "cell_type": "code",
   "execution_count": 69,
   "id": "a6bed046",
   "metadata": {},
   "outputs": [
    {
     "data": {
      "text/html": [
       "<div>\n",
       "<style scoped>\n",
       "    .dataframe tbody tr th:only-of-type {\n",
       "        vertical-align: middle;\n",
       "    }\n",
       "\n",
       "    .dataframe tbody tr th {\n",
       "        vertical-align: top;\n",
       "    }\n",
       "\n",
       "    .dataframe thead th {\n",
       "        text-align: right;\n",
       "    }\n",
       "</style>\n",
       "<table border=\"1\" class=\"dataframe\">\n",
       "  <thead>\n",
       "    <tr style=\"text-align: right;\">\n",
       "      <th></th>\n",
       "      <th>Domain</th>\n",
       "      <th>Area</th>\n",
       "      <th>Element</th>\n",
       "      <th>Crop</th>\n",
       "      <th>Year</th>\n",
       "      <th>Unit</th>\n",
       "      <th>Value</th>\n",
       "    </tr>\n",
       "  </thead>\n",
       "  <tbody>\n",
       "    <tr>\n",
       "      <th>512</th>\n",
       "      <td>Crops</td>\n",
       "      <td>Kenya</td>\n",
       "      <td>Production</td>\n",
       "      <td>Maize</td>\n",
       "      <td>2017</td>\n",
       "      <td>tonnes</td>\n",
       "      <td>3186000.0</td>\n",
       "    </tr>\n",
       "    <tr>\n",
       "      <th>511</th>\n",
       "      <td>Crops</td>\n",
       "      <td>Kenya</td>\n",
       "      <td>Production</td>\n",
       "      <td>Maize</td>\n",
       "      <td>2016</td>\n",
       "      <td>tonnes</td>\n",
       "      <td>3339000.0</td>\n",
       "    </tr>\n",
       "    <tr>\n",
       "      <th>514</th>\n",
       "      <td>Crops</td>\n",
       "      <td>Kenya</td>\n",
       "      <td>Production</td>\n",
       "      <td>Maize</td>\n",
       "      <td>2019</td>\n",
       "      <td>tonnes</td>\n",
       "      <td>3897000.0</td>\n",
       "    </tr>\n",
       "    <tr>\n",
       "      <th>513</th>\n",
       "      <td>Crops</td>\n",
       "      <td>Kenya</td>\n",
       "      <td>Production</td>\n",
       "      <td>Maize</td>\n",
       "      <td>2018</td>\n",
       "      <td>tonnes</td>\n",
       "      <td>4013777.0</td>\n",
       "    </tr>\n",
       "  </tbody>\n",
       "</table>\n",
       "</div>"
      ],
      "text/plain": [
       "    Domain   Area     Element   Crop  Year    Unit      Value\n",
       "512  Crops  Kenya  Production  Maize  2017  tonnes  3186000.0\n",
       "511  Crops  Kenya  Production  Maize  2016  tonnes  3339000.0\n",
       "514  Crops  Kenya  Production  Maize  2019  tonnes  3897000.0\n",
       "513  Crops  Kenya  Production  Maize  2018  tonnes  4013777.0"
      ]
     },
     "execution_count": 69,
     "metadata": {},
     "output_type": "execute_result"
    }
   ],
   "source": [
    "data.loc[Maize]"
   ]
  },
  {
   "cell_type": "code",
   "execution_count": 89,
   "id": "118e9c02",
   "metadata": {},
   "outputs": [
    {
     "data": {
      "image/png": "[encoded data removed]",
      "text/plain": [
       "<Figure size 720x432 with 1 Axes>"
      ]
     },
     "metadata": {
      "needs_background": "light"
     },
     "output_type": "display_data"
    }
   ],
   "source": [
    "w = 0.4\n",
    "SugarCane = [7094619,5262157,4751605,4606100 / 10*6]\n",
    "Maize = [3339000,3186000,4013777,3897000 / 10*6]\n",
    "x = [\"2016\",\"2017\",\"2018\",\"2019\"]\n",
    "bar1 = np.arange(len(x))\n",
    "bar2 = [i+w for i in bar1]\n",
    "plt.bar(bar1 ,SugarCane,w,label=\"SugarCane\")\n",
    "plt.bar(bar2 ,Maize,w,label=\"Maize\")\n",
    "plt.title(\"Production of Sugar Cane vs Maize in Kenya\",fontweight=\"bold\",fontsize=\"20\")\n",
    "plt.xlabel(\"Year of Production\",fontsize=\"13\")\n",
    "plt.ylabel(\"Value in metric Tonnes millions\",fontsize=\"13\")\n",
    "plt.legend()\n",
    "plt.xticks(bar1+w/2,x)\n",
    "plt.show()"
   ]
  },
  {
   "cell_type": "code",
   "execution_count": 84,
   "id": "1cd69f61",
   "metadata": {},
   "outputs": [
    {
     "name": "stdout",
     "output_type": "stream",
     "text": [
      "Sugar cane was the most produced crop in kenya but there is a steady decline of its production within the four years while maize has a high production in 2018\n"
     ]
    }
   ],
   "source": [
    "print(\"Sugar cane was the most produced crop in kenya but there is a steady decline of its production within the four years while maize has a high production in 2018\")"
   ]
  },
  {
   "cell_type": "markdown",
   "id": "05ad40ab",
   "metadata": {},
   "source": [
    "# Question 5: Production Data Eastern Africa"
   ]
  },
  {
   "cell_type": "code",
   "execution_count": 17,
   "id": "cc498693",
   "metadata": {},
   "outputs": [],
   "source": [
    "Production = (data[\"Element\"] == \"Production\") \n",
    "##This filter focuses on the production part of it"
   ]
  },
  {
   "cell_type": "code",
   "execution_count": 18,
   "id": "ba628bc8",
   "metadata": {},
   "outputs": [
    {
     "data": {
      "text/plain": [
       "Crop              Year  Value    \n",
       "Castor oil seed   2018  3000.0       2\n",
       "                  2017  3000.0       2\n",
       "                  2016  3000.0       2\n",
       "Rice, paddy       2016  3815849.0    1\n",
       "                        133000.0     1\n",
       "                        136001.0     1\n",
       "                        146633.0     1\n",
       "                        214910.0     1\n",
       "                        2229000.0    1\n",
       "                  2017  160.0        1\n",
       "                  2016  101510.0     1\n",
       "                  2017  1433.0       1\n",
       "                        1532.0       1\n",
       "                        32970.0      1\n",
       "                        38423.0      1\n",
       "                        81198.0      1\n",
       "                  2016  110544.0     1\n",
       "                        83757.0      1\n",
       "                  2017  108958.0     1\n",
       "                  2016  31700.0      1\n",
       "                        26675.0      1\n",
       "                        1475.0       1\n",
       "                        1375.0       1\n",
       "                        352.0        1\n",
       "Pyrethrum, dried  2019  7347.0       1\n",
       "                        2993.0       1\n",
       "                        217.0        1\n",
       "                  2018  7080.0       1\n",
       "                        1688.0       1\n",
       "                        212.0        1\n",
       "                  2017  6717.0       1\n",
       "Rice, paddy       2017  88298.0      1\n",
       "                        138000.0     1\n",
       "                        121079.0     1\n",
       "                  2019  170630.0     1\n",
       "                        160584.0     1\n",
       "                        133000.0     1\n",
       "                        131577.0     1\n",
       "                        88510.0      1\n",
       "                        35510.0      1\n",
       "                        29584.0      1\n",
       "                        1560.0       1\n",
       "                        1146.0       1\n",
       "                        21.0         1\n",
       "                  2018  4030000.0    1\n",
       "                        3414815.0    1\n",
       "                        413000.0     1\n",
       "                        245910.0     1\n",
       "                        171854.0     1\n",
       "                        119932.0     1\n",
       "dtype: int64"
      ]
     },
     "execution_count": 18,
     "metadata": {},
     "output_type": "execute_result"
    }
   ],
   "source": [
    "data.loc [Production, [\"Crop\", \"Year\",\"Value\"]].value_counts().head(50)\n"
   ]
  },
  {
   "cell_type": "code",
   "execution_count": 19,
   "id": "5916bef3",
   "metadata": {},
   "outputs": [
    {
     "data": {
      "text/plain": [
       "Value    768743974.0\n",
       "dtype: float64"
      ]
     },
     "execution_count": 19,
     "metadata": {},
     "output_type": "execute_result"
    }
   ],
   "source": [
    "data.loc[Production, [\"Value\"]].sum()\n",
    "### Figure is in Tonnes"
   ]
  },
  {
   "cell_type": "markdown",
   "id": "b14c3c79",
   "metadata": {},
   "source": [
    "## Most Produced Crops in Eastern Africa"
   ]
  },
  {
   "cell_type": "code",
   "execution_count": 20,
   "id": "f3914100",
   "metadata": {},
   "outputs": [
    {
     "data": {
      "text/plain": [
       "Crop\n",
       "Sugar cane                            143546660.0\n",
       "Maize                                 127014312.0\n",
       "Cassava                               119025702.0\n",
       "Sweet potatoes                         70975541.0\n",
       "Bananas                                40534964.0\n",
       "Rice, paddy                            31896437.0\n",
       "Sorghum                                31333412.0\n",
       "Vegetables, fresh nes                  27863359.0\n",
       "Potatoes                               26434514.0\n",
       "Wheat                                  21867568.0\n",
       "Beans, dry                             19641515.0\n",
       "Mangoes, mangosteens, guavas           12859747.0\n",
       "Tomatoes                               10077415.0\n",
       "Barley                                  9208005.0\n",
       "Groundnuts, with shell                  7619845.0\n",
       "Millet                                  7397885.0\n",
       "Cabbages and other brassicas            6197123.0\n",
       "Sunflower seed                          5696768.0\n",
       "Onions, dry                             5538374.0\n",
       "Pineapples                              4907624.0\n",
       "Oranges                                 3648831.0\n",
       "Cow peas, dry                           3444883.0\n",
       "Seed cotton                             2951263.0\n",
       "Tea                                     2885452.0\n",
       "Pumpkins, squash and gourds             2861944.0\n",
       "Soybeans                                2805650.0\n",
       "Fruit, tropical fresh nes               2455797.0\n",
       "Cashew nuts, with shell                 2290664.0\n",
       "Chick peas                              2100462.0\n",
       "Peas, dry                               1879346.0\n",
       "Avocados                                1853101.0\n",
       "Chillies and peppers, dry               1318933.0\n",
       "Carrots and turnips                     1076854.0\n",
       "Watermelons                              926909.0\n",
       "Yams                                     774221.0\n",
       "Oil palm fruit                           737455.0\n",
       "Garlic                                   711932.0\n",
       "Spinach                                  554434.0\n",
       "Fruit, citrus nes                        551021.0\n",
       "Castor oil seed                          406663.0\n",
       "Chillies and peppers, green              385266.0\n",
       "Lemons and limes                         380435.0\n",
       "Sisal                                    293825.0\n",
       "Beans, green                             282633.0\n",
       "Peas, green                              279398.0\n",
       "Maize, green                             257145.0\n",
       "Cocoa, beans                             238381.0\n",
       "Oats                                     178412.0\n",
       "Fibre crops nes                          145501.0\n",
       "Vegetables, leguminous nes               105252.0\n",
       "Grapes                                    98909.0\n",
       "Apples                                    68887.0\n",
       "Ginger                                    49593.0\n",
       "Pyrethrum, dried                          38742.0\n",
       "Cauliflowers and broccoli                 29945.0\n",
       "Leeks, other alliaceous vegetables        28456.0\n",
       "Mustard seed                              10609.0\n",
       "Name: Value, dtype: float64"
      ]
     },
     "execution_count": 20,
     "metadata": {},
     "output_type": "execute_result"
    }
   ],
   "source": [
    "data.groupby([\"Crop\"])[\"Value\"].sum().sort_values(ascending=False)"
   ]
  },
  {
   "cell_type": "code",
   "execution_count": 45,
   "id": "197f6a95",
   "metadata": {},
   "outputs": [
    {
     "data": {
      "text/plain": [
       "Text(0, 0.5, 'Crops')"
      ]
     },
     "execution_count": 45,
     "metadata": {},
     "output_type": "execute_result"
    },
    {
     "data": {
      "image/png": "[encoded data removed]",
      "text/plain": [
       "<Figure size 648x576 with 1 Axes>"
      ]
     },
     "metadata": {
      "needs_background": "light"
     },
     "output_type": "display_data"
    }
   ],
   "source": [
    "data.groupby([\"Crop\"])[\"Value\"].sum().sort_values(ascending=False).head(10).plot.barh(figsize = (9,8),fontsize=13)\n",
    "plt.xlabel(\"Value in metric Tonnes\",fontsize=13)\n",
    "plt.ylabel(\"Crops\",fontsize=13)"
   ]
  },
  {
   "cell_type": "code",
   "execution_count": 22,
   "id": "2d4edb1c",
   "metadata": {},
   "outputs": [
    {
     "name": "stdout",
     "output_type": "stream",
     "text": [
      "The most Produced crops were: Sugar cane, Maize and Cassava in that order\n"
     ]
    }
   ],
   "source": [
    "print(\"The most Produced crops were: Sugar cane, Maize and Cassava in that order\")"
   ]
  },
  {
   "cell_type": "markdown",
   "id": "1cc27130",
   "metadata": {},
   "source": [
    "# Question 6 : Production Comparison Between Kenya, Uganda and Tanzania"
   ]
  },
  {
   "cell_type": "code",
   "execution_count": 23,
   "id": "f6fe7d3b",
   "metadata": {},
   "outputs": [],
   "source": [
    "Kenya = data[data.Area == \"Kenya\"].sum()[\"Value\"]"
   ]
  },
  {
   "cell_type": "code",
   "execution_count": 24,
   "id": "49c7f10c",
   "metadata": {},
   "outputs": [],
   "source": [
    "Uganda = data[data.Area == \"Uganda\"].sum()[\"Value\"]"
   ]
  },
  {
   "cell_type": "code",
   "execution_count": 25,
   "id": "ca7a7903",
   "metadata": {},
   "outputs": [],
   "source": [
    "Tanzania = data[data.Area == \"United Republic of Tanzania\"].sum()[\"Value\"]"
   ]
  },
  {
   "cell_type": "code",
   "execution_count": 26,
   "id": "d2dd0d59",
   "metadata": {},
   "outputs": [
    {
     "data": {
      "image/png": "[encoded data removed]",
      "text/plain": [
       "<Figure size 720x432 with 1 Axes>"
      ]
     },
     "metadata": {
      "needs_background": "light"
     },
     "output_type": "display_data"
    }
   ],
   "source": [
    "x=[Kenya,Uganda,Tanzania]\n",
    "y=[\"Kenya\",\"Uganda\",\"Tanzania\"]\n",
    "plt.bar(y,x)\n",
    "plt.title(\"Production Comparisons\",fontsize=20, fontweight=\"bold\")\n",
    "plt.xlabel(\"Countries\",fontsize=13, fontweight=\"bold\")\n",
    "plt.ylabel(\"Value in (000')\",fontsize=13, fontweight=\"bold\")\n",
    "plt.show()"
   ]
  },
  {
   "cell_type": "code",
   "execution_count": 27,
   "id": "7c224379",
   "metadata": {},
   "outputs": [
    {
     "name": "stdout",
     "output_type": "stream",
     "text": [
      "From the Bar graph we can conclude that Tanzania is the country with the highest produce\n"
     ]
    }
   ],
   "source": [
    "print(\"From the Bar graph we can conclude that Tanzania is the country with the highest produce\")"
   ]
  },
  {
   "cell_type": "markdown",
   "id": "f2ea12fa",
   "metadata": {},
   "source": [
    "# Question 7 : Production Percentage rates of six EA Countries"
   ]
  },
  {
   "cell_type": "code",
   "execution_count": 28,
   "id": "e05b2138",
   "metadata": {},
   "outputs": [],
   "source": [
    "Production_Values = [65585100,147269255,80779264,25615403,126331524,23273647]\n",
    "Production_Labels = [\"Uganda\",\"Tanzania\",\"Kenya\",\"Burundi\",\"Ethiopia\",\"Zimbabwe\"]"
   ]
  },
  {
   "cell_type": "code",
   "execution_count": 29,
   "id": "b0359c62",
   "metadata": {},
   "outputs": [
    {
     "data": {
      "image/png": "[encoded data removed]",
      "text/plain": [
       "<Figure size 720x432 with 1 Axes>"
      ]
     },
     "metadata": {},
     "output_type": "display_data"
    }
   ],
   "source": [
    "plt.axis(\"equal\")\n",
    "plt.pie(Production_Values,labels=Production_Labels,radius=1.5,autopct=\"%0.1f%%\")\n",
    "plt.show()"
   ]
  },
  {
   "cell_type": "markdown",
   "id": "b86bf02f",
   "metadata": {},
   "source": [
    "# Question 8 : Production of Maize in Eastern Africa"
   ]
  },
  {
   "cell_type": "code",
   "execution_count": 30,
   "id": "59df8b7b",
   "metadata": {},
   "outputs": [],
   "source": [
    "Maize = (data[\"Crop\"] == \"Maize\") & (data[\"Area\"] == \"Zambia\")"
   ]
  },
  {
   "cell_type": "code",
   "execution_count": 31,
   "id": "99af1f2a",
   "metadata": {},
   "outputs": [
    {
     "data": {
      "text/plain": [
       "Value    10878897.0\n",
       "dtype: float64"
      ]
     },
     "execution_count": 31,
     "metadata": {},
     "output_type": "execute_result"
    }
   ],
   "source": [
    "data.loc[Maize, [\"Value\"]].sum()"
   ]
  },
  {
   "cell_type": "code",
   "execution_count": 32,
   "id": "e88175de",
   "metadata": {},
   "outputs": [],
   "source": [
    "Maize_Values =[14435777,4381488,24754914,10462241,1033406,39090562,11561591,10878897,296000,1564182]\n",
    "Country_Values = [\"Kenya\",\"Zimbabwe\",\"Tanzania\",\"Uganda\",\"Burundi\",\"Ethiopia\",\"Malawi\",\"Zambia\",\"Somalia\",\"Rwanda\"]"
   ]
  },
  {
   "cell_type": "code",
   "execution_count": 33,
   "id": "c2c2cfc4",
   "metadata": {},
   "outputs": [
    {
     "data": {
      "image/png": "[encoded data removed]",
      "text/plain": [
       "<Figure size 720x432 with 1 Axes>"
      ]
     },
     "metadata": {},
     "output_type": "display_data"
    }
   ],
   "source": [
    "plt.axis(\"Equal\")\n",
    "plt.pie(Maize_Values,labels=Country_Values,radius=1.5,autopct=\"%0.2f%%\")\n",
    "plt.show()"
   ]
  },
  {
   "cell_type": "code",
   "execution_count": 34,
   "id": "0ad064bf",
   "metadata": {},
   "outputs": [
    {
     "name": "stdout",
     "output_type": "stream",
     "text": [
      "From the Pie chart we can conclude that Ethiopia was the highest producer of maize followed by Tanzania then Kenya\n"
     ]
    }
   ],
   "source": [
    "print(\"From the Pie chart we can conclude that Ethiopia was the highest producer of maize followed by Tanzania then Kenya\")"
   ]
  },
  {
   "cell_type": "markdown",
   "id": "133780d2",
   "metadata": {},
   "source": [
    "# Question 9 : Production of Tea in 6 East African Countries"
   ]
  },
  {
   "cell_type": "code",
   "execution_count": 35,
   "id": "09cf3adb",
   "metadata": {},
   "outputs": [],
   "source": [
    "Tea = (data[\"Crop\"] == \"Tea\") & (data[\"Area\"] == \"Kenya\")"
   ]
  },
  {
   "cell_type": "code",
   "execution_count": 36,
   "id": "2c62a7f4",
   "metadata": {},
   "outputs": [
    {
     "data": {
      "text/plain": [
       "Value    1864697.0\n",
       "dtype: float64"
      ]
     },
     "execution_count": 36,
     "metadata": {},
     "output_type": "execute_result"
    }
   ],
   "source": [
    "data.loc[Tea, [\"Value\"]].sum()"
   ]
  },
  {
   "cell_type": "code",
   "execution_count": 94,
   "id": "e22aa66d",
   "metadata": {},
   "outputs": [
    {
     "data": {
      "image/png": "[encoded data removed]",
      "text/plain": [
       "<Figure size 720x432 with 1 Axes>"
      ]
     },
     "metadata": {
      "needs_background": "light"
     },
     "output_type": "display_data"
    }
   ],
   "source": [
    "x = [1864697,234407,192654,48944,116120,86108 / 10*6]\n",
    "y = [\"Kenya\",\"Uganda\",\"Tanznia\",\"Ethiopia\",\"Rwanda\",\"Burundi\"]\n",
    "plt.barh(y,x)\n",
    "plt.title(\"A Bar Graph on Tea Production in 6 EA Countries\",fontsize=20, fontweight=\"bold\")\n",
    "plt.xlabel(\"Value in Metric Tonnes\",fontsize=13, fontweight=\"bold\")\n",
    "plt.ylabel(\"Countries\",fontsize=13, fontweight=\"bold\")\n",
    "plt.show()"
   ]
  },
  {
   "cell_type": "code",
   "execution_count": 38,
   "id": "2da9e2c2",
   "metadata": {},
   "outputs": [
    {
     "name": "stdout",
     "output_type": "stream",
     "text": [
      "Kenya was the highest producer of tea in the selected countries\n"
     ]
    }
   ],
   "source": [
    "print(\"Kenya was the highest producer of tea in the selected countries\")"
   ]
  },
  {
   "cell_type": "markdown",
   "id": "d5969b2c",
   "metadata": {},
   "source": [
    "# Question 10 : Amount of land Harvested in 'Ha'"
   ]
  },
  {
   "cell_type": "code",
   "execution_count": 39,
   "id": "9da0eae4",
   "metadata": {},
   "outputs": [],
   "source": [
    "Harvest = (Data[\"Element\"] == \"Area harvested\")\n",
    "### propotion of land harvested."
   ]
  },
  {
   "cell_type": "code",
   "execution_count": 40,
   "id": "6824e1bf",
   "metadata": {},
   "outputs": [
    {
     "data": {
      "text/plain": [
       "221783078.0"
      ]
     },
     "execution_count": 40,
     "metadata": {},
     "output_type": "execute_result"
    }
   ],
   "source": [
    "Data.loc[Harvest][\"Value\"].sum()"
   ]
  },
  {
   "cell_type": "code",
   "execution_count": 41,
   "id": "480baa05",
   "metadata": {},
   "outputs": [
    {
     "data": {
      "image/png": "[encoded data removed]",
      "text/plain": [
       "<Figure size 720x432 with 1 Axes>"
      ]
     },
     "metadata": {
      "needs_background": "light"
     },
     "output_type": "display_data"
    }
   ],
   "source": [
    "plt.barh(Data.Area, Data.Value/ 10**6)\n",
    "plt.title(\"Total Hectares of land Harvested Per Country\",fontsize=20, fontweight=\"bold\")\n",
    "plt.xlabel(\"Value in (Ha)\",fontsize=13, fontweight=\"bold\")\n",
    "plt.ylabel(\"Countries\",fontsize=13, fontweight=\"bold\")\n",
    "plt.show()"
   ]
  },
  {
   "cell_type": "code",
   "execution_count": 42,
   "id": "743f090b",
   "metadata": {},
   "outputs": [
    {
     "name": "stdout",
     "output_type": "stream",
     "text": [
      "Tanzania is the country where most land was used harvested\n"
     ]
    }
   ],
   "source": [
    "print(\"Tanzania is the country where most land was used harvested\")"
   ]
  },
  {
   "cell_type": "code",
   "execution_count": null,
   "id": "1bc64f9a",
   "metadata": {},
   "outputs": [],
   "source": []
  }
 ],
 "metadata": {
  "kernelspec": {
   "display_name": "Python 3",
   "language": "python",
   "name": "python3"
  },
  "language_info": {
   "codemirror_mode": {
    "name": "ipython",
    "version": 3
   },
   "file_extension": ".py",
   "mimetype": "text/x-python",
   "name": "python",
   "nbconvert_exporter": "python",
   "pygments_lexer": "ipython3",
   "version": "3.9.1"
  }
 },
 "nbformat": 4,
 "nbformat_minor": 5
}
